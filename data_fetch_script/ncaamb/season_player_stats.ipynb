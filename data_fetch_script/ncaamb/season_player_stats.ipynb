{
 "cells": [
  {
   "cell_type": "code",
   "execution_count": 6,
   "id": "52b7e143",
   "metadata": {},
   "outputs": [],
   "source": [
    "import os\n",
    "import json\n",
    "import pandas as pd\n",
    "import requests\n",
    "from dotenv import load_dotenv"
   ]
  },
  {
   "cell_type": "code",
   "execution_count": 7,
   "id": "dd26f8d3",
   "metadata": {},
   "outputs": [
    {
     "name": "stdout",
     "output_type": "stream",
     "text": [
      "📂 Found 6298 game files\n"
     ]
    }
   ],
   "source": [
    "year = 2024  # adjust as needed\n",
    "folder_path = f\"../../data/ncaamb/api_data/match_stats/{year}\"\n",
    "\n",
    "# List all JSON files in the folder\n",
    "json_files = [f for f in os.listdir(folder_path) if f.endswith(\".json\")]\n",
    "print(f\"📂 Found {len(json_files)} game files\")\n"
   ]
  },
  {
   "cell_type": "code",
   "execution_count": 8,
   "id": "d8a8b2e6",
   "metadata": {},
   "outputs": [],
   "source": [
    "rows = []\n",
    "\n",
    "for filename in json_files:\n",
    "    file_path = os.path.join(folder_path, filename)\n",
    "\n",
    "    try:\n",
    "        with open(file_path, \"r\") as f:\n",
    "            game_data = json.load(f)\n",
    "        if game_data.get(\"status\")!=\"closed\":\n",
    "            continue\n",
    "        # Loop for home & away\n",
    "        for side in [\"home\", \"away\"]:\n",
    "            team = game_data.get(side, {})\n",
    "            if not team:\n",
    "                continue\n",
    "            # print(\"-----------\")\n",
    "            row = {\n",
    "                # game details\n",
    "                \"game_id\": game_data.get(\"id\"),\n",
    "                \"game_sr_id\": game_data.get(\"sr_id\"),\n",
    "                \"scheduled\": game_data.get(\"scheduled\"),\n",
    "                \"duration\": game_data.get(\"duration\"),\n",
    "                \"game_date\":game_data.get(\"scheduled\").split('T')[0],\n",
    "                \"status\": game_data.get(\"status\"),\n",
    "                \"attendance\":game_data.get(\"attendance\"),\n",
    "                \"track_on_court\":game_data.get(\"track_on_court\", \"not preasent\"),\n",
    "                # team details\n",
    "                \"team_id\": team.get(\"id\"),\n",
    "                \"team_sr_id\": team.get(\"sr_id\"),\n",
    "                \"team_name\": team.get(\"name\"),\n",
    "                \"team_alias\": team.get(\"alias\"),\n",
    "                \"team_market\": team.get(\"market\"),\n",
    "                \"points\": team.get(\"points\"),\n",
    "                \"bonus\": team.get(\"bonus\"),\n",
    "                \"timeouts_remaining\": team.get(\"remaining_timeouts\"),\n",
    "                # team records\n",
    "                # \"record_wins\":team.get(\"record\").get(\"wins\"),\n",
    "                # \"record_losses\":team.get(\"record\").get(\"losses\"),\n",
    "                \n",
    "            }\n",
    "            \n",
    "            record = team.get(\"record\", {})\n",
    "            row.update({\n",
    "                     \"record_wins\":record.get(\"wins\"),\n",
    "                     \"record_losses\":record.get(\"losses\")\n",
    "                })\n",
    "            # venue details\n",
    "            venue = game_data.get(\"venue\", {})\n",
    "            row.update({\n",
    "                \"venue_id\": venue.get(\"id\"),\n",
    "                \"venue_name\": venue.get(\"name\"),\n",
    "                \"venue_capacity\": venue.get(\"capacity\"),\n",
    "                \"venue_address\": venue.get(\"address\"),\n",
    "                \"venue_city\": venue.get(\"city\"),\n",
    "                \"venue_state\": venue.get(\"state\"),\n",
    "                \"venue_zip\": venue.get(\"zip\"),\n",
    "                \"venue_country\": venue.get(\"country\"),\n",
    "                \"venue_sr_id\": venue.get(\"sr_id\"),\n",
    "            })\n",
    "\n",
    "            # location details (if present inside venue)\n",
    "            location = venue.get(\"location\", {})\n",
    "            row.update({\n",
    "                \"venue_lat\": location.get(\"lat\"),\n",
    "                \"venue_lon\": location.get(\"lng\"),\n",
    "            })\n",
    "            \n",
    "            # player statistics\n",
    "            player_stats_data = team.get(\"players\", [])\n",
    "            if player_stats_data:  # list of players\n",
    "                for player in player_stats_data:\n",
    "                    # basic info (excluding statistics key)\n",
    "                    for k, v in player.items():\n",
    "                        if k != \"statistics\":\n",
    "                            row[f\"player_{k}\"] = v\n",
    "\n",
    "                    # player statistics\n",
    "                    player_statistics = player.get(\"statistics\", {})\n",
    "                    for stat_name, stat_value in player_statistics.items():\n",
    "                        row[f\"{stat_name}\"] = stat_value\n",
    "\n",
    "                    # player periodic statistics\n",
    "                    periods = player_statistics.get(\"periods\", [])\n",
    "                    for p in periods:\n",
    "                        period_no = p.get(\"number\")\n",
    "                        suffix = f\"{period_no}th_period\"\n",
    "                        for stat_name, value in p.items():\n",
    "                            if stat_name != \"number\":\n",
    "                                row[f\"{suffix}_{stat_name}\"] = value\n",
    "                    rows.append(row)\n",
    "                \n",
    "            \n",
    "\n",
    "    except Exception as e:\n",
    "        print(f\"❌ Failed {filename}: {e}\")\n",
    "        break\n"
   ]
  },
  {
   "cell_type": "code",
   "execution_count": 9,
   "id": "6d77d31e",
   "metadata": {},
   "outputs": [
    {
     "name": "stdout",
     "output_type": "stream",
     "text": [
      "✅ Processed 202101 rows from 6298 files\n",
      "📄 Saved CSV → ../../data/ncaamb/api_data/player_stats/ncaamb_player_stats_2024.csv\n"
     ]
    }
   ],
   "source": [
    "df = pd.DataFrame(rows)\n",
    "df.drop(columns=['periods'],inplace=True)\n",
    "# Composite key = (game_id, team_id)\n",
    "print(f\"✅ Processed {len(df)} rows from {len(json_files)} files\")\n",
    "\n",
    "output_path = f\"../../data/ncaamb/api_data/player_stats/ncaamb_player_stats_{year}.csv\"\n",
    "df.to_csv(output_path, index=False)\n",
    "print(f\"📄 Saved CSV → {output_path}\")\n"
   ]
  },
  {
   "cell_type": "code",
   "execution_count": 10,
   "id": "b6bc8f50",
   "metadata": {},
   "outputs": [
    {
     "name": "stderr",
     "output_type": "stream",
     "text": [
      "C:\\Users\\GauravRadadiya\\AppData\\Local\\Temp\\ipykernel_20876\\2862003217.py:2: DtypeWarning: Columns (3,24,35,172,173,174,176,216,217,219) have mixed types. Specify dtype option on import or set low_memory=False.\n",
      "  df = pd.read_csv(output_path)\n"
     ]
    },
    {
     "data": {
      "text/plain": [
       "(202101, 259)"
      ]
     },
     "execution_count": 10,
     "metadata": {},
     "output_type": "execute_result"
    }
   ],
   "source": [
    "# df = pd.read_csv('../../data/ncaamb/api_data/')\n",
    "df = pd.read_csv(output_path)\n",
    "df.shape"
   ]
  },
  {
   "cell_type": "code",
   "execution_count": null,
   "id": "9c88345d",
   "metadata": {},
   "outputs": [],
   "source": []
  },
  {
   "cell_type": "code",
   "execution_count": null,
   "id": "f9bcb949",
   "metadata": {},
   "outputs": [],
   "source": []
  },
  {
   "cell_type": "code",
   "execution_count": null,
   "id": "7300c245",
   "metadata": {},
   "outputs": [],
   "source": []
  }
 ],
 "metadata": {
  "kernelspec": {
   "display_name": "Python 3",
   "language": "python",
   "name": "python3"
  },
  "language_info": {
   "codemirror_mode": {
    "name": "ipython",
    "version": 3
   },
   "file_extension": ".py",
   "mimetype": "text/x-python",
   "name": "python",
   "nbconvert_exporter": "python",
   "pygments_lexer": "ipython3",
   "version": "3.12.10"
  }
 },
 "nbformat": 4,
 "nbformat_minor": 5
}

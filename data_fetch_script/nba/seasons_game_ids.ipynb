{
 "cells": [
  {
   "cell_type": "code",
   "execution_count": 70,
   "id": "1f10131c",
   "metadata": {},
   "outputs": [],
   "source": [
    "import os\n",
    "import json\n",
    "import requests\n",
    "from dotenv import load_dotenv\n"
   ]
  },
  {
   "cell_type": "code",
   "execution_count": 71,
   "id": "3d177a58",
   "metadata": {},
   "outputs": [],
   "source": [
    "# Load API key from .env file\n",
    "load_dotenv()\n",
    "API_KEY = os.getenv(\"SPORTSRADAR_API_KEY\")\n",
    "\n",
    "if not API_KEY:\n",
    "    raise ValueError(\"❌ API Key not found in .env file\")\n"
   ]
  },
  {
   "cell_type": "code",
   "execution_count": 72,
   "id": "2c934291",
   "metadata": {},
   "outputs": [],
   "source": [
    "year = '2024'\n",
    "# PRE IST PST REG PIT\n",
    "season_type = 'PIT'\n",
    "url = f\"https://api.sportradar.com/nba/trial/v8/en/games/{year}/{season_type}/schedule.json\"\n",
    "\n",
    "headers = {\n",
    "    \"accept\": \"application/json\",\n",
    "    \"x-api-key\": API_KEY\n",
    "}"
   ]
  },
  {
   "cell_type": "code",
   "execution_count": 73,
   "id": "380e990a",
   "metadata": {},
   "outputs": [
    {
     "data": {
      "text/plain": [
       "dict_keys(['league', 'season', 'games'])"
      ]
     },
     "execution_count": 73,
     "metadata": {},
     "output_type": "execute_result"
    }
   ],
   "source": [
    "response = requests.get(url, headers=headers)\n",
    "response.raise_for_status()\n",
    "data = response.json()\n",
    "\n",
    "# Peek at the structure\n",
    "data.keys()\n"
   ]
  },
  {
   "cell_type": "code",
   "execution_count": 74,
   "id": "57507420",
   "metadata": {},
   "outputs": [
    {
     "name": "stdout",
     "output_type": "stream",
     "text": [
      "✅ Saved 3 game IDs to ../../data/nba/api_data/season_schedules/2024_PIT_season_schedule.json\n"
     ]
    }
   ],
   "source": [
    "file_path = f'../../data/nba/api_data/season_schedules/{year}_{season_type}_season_schedule.json'\n",
    "with open(file_path, \"w\") as f:\n",
    "    json.dump(data, f, indent=4)\n",
    "print(f\"✅ Saved {len(data)} game IDs to {file_path}\")\n"
   ]
  },
  {
   "cell_type": "code",
   "execution_count": 75,
   "id": "fb25fd2b",
   "metadata": {},
   "outputs": [
    {
     "data": {
      "text/plain": [
       "['7ebf6c6b-0790-4e0b-9213-a29814e181b9',\n",
       " '92ae0935-299f-415a-ab04-7d84f1a21911',\n",
       " '50dda31c-bdb4-4516-8701-2df4f37525f8',\n",
       " '2b52a0cf-eb5f-4ec4-a282-0cff22245404',\n",
       " '961ea408-92ff-46d6-9f1f-6dddaca48be2',\n",
       " 'e52d5479-9f47-42c9-a88a-f2b60be5f074']"
      ]
     },
     "execution_count": 75,
     "metadata": {},
     "output_type": "execute_result"
    }
   ],
   "source": [
    "games = []\n",
    "\n",
    "if \"games\" in data:\n",
    "    for game in data[\"games\"]:\n",
    "            games.append(game[\"id\"])\n",
    "\n",
    "games  # show the mapping"
   ]
  },
  {
   "cell_type": "code",
   "execution_count": 76,
   "id": "224a6b2c",
   "metadata": {},
   "outputs": [
    {
     "name": "stdout",
     "output_type": "stream",
     "text": [
      "✅ Saved 6 game series and a total of 6 IDs to ../../data/nba/api_data/game_ids/2024_PIT_season_ids.json\n"
     ]
    }
   ],
   "source": [
    "game_ids_file_path = f'../../data/nba/api_data/game_ids/{year}_{season_type}_season_ids.json'\n",
    "with open(game_ids_file_path, \"w\") as f:\n",
    "    json.dump(games, f, indent=4)\n",
    "\n",
    "total_games = len(games)\n",
    "print(f\"✅ Saved {len(games)} game series and a total of {total_games} IDs to {game_ids_file_path}\")\n"
   ]
  }
 ],
 "metadata": {
  "kernelspec": {
   "display_name": "Python 3",
   "language": "python",
   "name": "python3"
  },
  "language_info": {
   "codemirror_mode": {
    "name": "ipython",
    "version": 3
   },
   "file_extension": ".py",
   "mimetype": "text/x-python",
   "name": "python",
   "nbconvert_exporter": "python",
   "pygments_lexer": "ipython3",
   "version": "3.10.11"
  }
 },
 "nbformat": 4,
 "nbformat_minor": 5
}

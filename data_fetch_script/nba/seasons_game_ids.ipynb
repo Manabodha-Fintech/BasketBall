{
 "cells": [
  {
   "cell_type": "code",
   "execution_count": 2,
   "id": "1f10131c",
   "metadata": {},
   "outputs": [],
   "source": [
    "import os\n",
    "import json\n",
    "import requests\n",
    "from dotenv import load_dotenv"
   ]
  },
  {
   "cell_type": "code",
   "execution_count": 27,
   "id": "3d177a58",
   "metadata": {},
   "outputs": [],
   "source": [
    "# Load API key from .env file\n",
    "load_dotenv()\n",
    "API_KEY = os.getenv(\"SPORTSRADAR_API_KEY\")\n",
    "\n",
    "if not API_KEY:\n",
    "    raise ValueError(\"❌ API Key not found in .env file\")\n"
   ]
  },
  {
   "cell_type": "code",
   "execution_count": 28,
   "id": "2c934291",
   "metadata": {},
   "outputs": [],
   "source": [
    "year = '2023'\n",
    "url = f\"https://api.sportradar.com/nba/trial/v8/en/series/{year}/PST/schedule.json\"\n",
    "\n",
    "headers = {\n",
    "    \"accept\": \"application/json\",\n",
    "    \"x-api-key\": API_KEY\n",
    "}\n"
   ]
  },
  {
   "cell_type": "code",
   "execution_count": 29,
   "id": "380e990a",
   "metadata": {},
   "outputs": [
    {
     "data": {
      "text/plain": [
       "dict_keys(['league', 'season', 'series'])"
      ]
     },
     "execution_count": 29,
     "metadata": {},
     "output_type": "execute_result"
    }
   ],
   "source": [
    "response = requests.get(url, headers=headers)\n",
    "response.raise_for_status()\n",
    "data = response.json()\n",
    "\n",
    "# Peek at the structure\n",
    "data.keys()\n"
   ]
  },
  {
   "cell_type": "code",
   "execution_count": 30,
   "id": "57507420",
   "metadata": {},
   "outputs": [
    {
     "name": "stdout",
     "output_type": "stream",
     "text": [
      "✅ Saved 3 game IDs to ../../data/nba/api_data/season_schedules/2023_season_schedule.json\n"
     ]
    }
   ],
   "source": [
    "file_path = f'../../data/nba/api_data/season_schedules/{year}_season_schedule.json'\n",
    "with open(file_path, \"w\") as f:\n",
    "    json.dump(data, f, indent=4)\n",
    "print(f\"✅ Saved {len(data)} game IDs to {file_path}\")\n"
   ]
  },
  {
   "cell_type": "code",
   "execution_count": 31,
   "id": "fb25fd2b",
   "metadata": {},
   "outputs": [
    {
     "data": {
      "text/plain": [
       "{'0f81bb4d-1d0c-4a3b-82de-507534154095': ['342f103b-0fd7-47ac-a84d-1391e3605e96',\n",
       "  '71d8d5fc-6836-43c1-85a0-61a828296a06',\n",
       "  '50b170b9-37e2-47d0-b517-e56ebb960cba',\n",
       "  '8e94445c-c223-4a49-a759-0b651e440b95',\n",
       "  'aaa3ddb3-dd1b-459e-a686-d2bfc4408881',\n",
       "  '7c16f1ec-6629-4675-aaaa-2a31835862a6',\n",
       "  '09129676-2320-4151-976d-713ea785d97b'],\n",
       " '29b32e9a-1b2e-4c0d-8d0f-fe820597d162': ['530fd804-1489-4d8d-a872-ab2f6b2a7c91',\n",
       "  '2d8ea5d7-b353-4ab6-991c-f447b68fe5ab',\n",
       "  '0b948096-97b2-4f69-acf8-c90b377d575c',\n",
       "  '50ea192b-6313-4cce-aa89-8d1a15cfa862',\n",
       "  '18b25f87-5d84-4010-b58a-324aa38570e8',\n",
       "  '686799fd-f8a1-4f85-b3be-59c8f3a81e51',\n",
       "  '64260fc8-1360-4e09-b3e8-078eafe8c8d8'],\n",
       " '3d7e9719-728f-48c7-8960-170dcd7514a5': ['c950e90e-6bfe-4c8e-8eec-489f010fc7cb',\n",
       "  'ee514e3c-fa4a-4ae7-b0a2-a3c94b2c1878',\n",
       "  '8f50c111-eba6-475e-b82c-441cfd9f3cc1',\n",
       "  'e8f4a4df-eb67-4974-aa42-7f777620ea8c',\n",
       "  '5ed0786b-760b-4f55-91fb-b9812c3ed6df',\n",
       "  '1b87703d-8968-4647-af4c-75f96deda027',\n",
       "  'f40e523a-a73d-4fd9-a6a8-96388c4e10b3'],\n",
       " '4225f53c-b0b7-4ac0-ad4b-41ffb6f33623': ['d6f4fe90-057e-4885-9053-2e913dce4dab',\n",
       "  '91197614-eb7d-4f15-b4be-fedd76b9ba36',\n",
       "  'b325314b-5b15-4205-95f1-c14ddfd0da7e',\n",
       "  '2526e9c1-185f-4e82-aeb5-83fe7d108537',\n",
       "  '8be96fd9-35a3-41e9-9925-ee28ed89424f',\n",
       "  'c324bc67-e864-4bb5-980e-47f75659c471',\n",
       "  '5f74659a-bfbf-4fb7-bcfb-35f27a47b73e'],\n",
       " '58d8ebb1-894a-42e4-8fcc-be48842ea7da': ['61f5b213-a570-4afa-99eb-e522893a71f4',\n",
       "  '1cd2b94f-e09c-4e96-adbd-cd20536c00e9',\n",
       "  '08ade1e8-c49c-4fa1-ba16-00cc60fad3fa',\n",
       "  'e0909055-9886-437c-b638-f8014666c212',\n",
       "  '8b6982bb-cc51-4fc1-9c8f-03142bc59552',\n",
       "  '93451959-e3b4-4de4-bb70-de671014dea3',\n",
       "  'dcafa64e-3ea0-490c-8e16-d0bbcfe49e99'],\n",
       " '6f68c155-90dc-48e5-8e50-223b4eb91437': ['748648eb-ce1c-4671-8595-4572dd02c46c',\n",
       "  'b6390957-dd1d-4e68-b24d-e073a7f724ae',\n",
       "  '46d6c3bb-b17c-45a0-9b7b-6488be20186d',\n",
       "  '5e941371-1543-4d60-9df4-9d555c31d652',\n",
       "  '46edbf63-5f67-44ba-9476-55883311e5b0',\n",
       "  '516c1afd-e9a2-47c9-a9ea-ecd514385eb6',\n",
       "  '43990c8b-1690-4221-a388-63fcc161dc8e'],\n",
       " '717b5755-f489-43f4-b9e6-486150a2e131': ['7e26c227-a43e-43f2-b91e-c718281ba413',\n",
       "  '00cd35d2-a20a-445c-9c4b-4eb73e78d2ff',\n",
       "  'f7a5b678-fbec-40cd-bd03-6dc8175ab651',\n",
       "  '4d3a2b1e-9948-4dfa-bf53-b954b1dc9658',\n",
       "  'ea2ecda4-a0b9-481c-a90a-08a632bfd345',\n",
       "  '4db39bcf-3423-4266-b1ad-c6779acdd3e3',\n",
       "  'eccc971a-7005-473b-97c1-6cfd56a1492f'],\n",
       " '7a7ff695-2b72-455f-bbb0-f35c92201acb': ['23953e79-bee5-40de-964a-5a09b2618b2b',\n",
       "  '50eb8db0-4e53-4178-88c2-60ee7e561e38',\n",
       "  '9adf9252-dfc4-470d-be48-0d7493628c90',\n",
       "  'c6f17dc1-5a21-4b23-b9c6-4b8cb9a25209',\n",
       "  'f66da5b4-7518-4748-8cb4-a408ec87e4d4',\n",
       "  'a2eec973-2322-462d-b49f-65863388caaa',\n",
       "  'aac7d5fb-ccfa-4270-a330-262cb1f0cdbb'],\n",
       " 'ab58c9dc-65aa-4cbf-8cbf-9eb4efbc1b5f': ['24eb2ee4-028a-4c18-a0c9-af6a07d512eb',\n",
       "  'a9e15f6f-fb80-4f85-85c9-7c17aaa8a9d0',\n",
       "  '83a56ff2-1f33-4a4b-b387-2853b8059355',\n",
       "  '03e07b58-1756-49cc-9a11-b78d565ee37d',\n",
       "  'c33fb477-9ef9-4808-bb4f-2dcfd760b679',\n",
       "  '3eb8f631-541a-49ea-81e8-7f96847262dc',\n",
       "  '56014924-10c7-4c63-af41-0bdccf9908f6'],\n",
       " 'adeb0d8f-0286-487c-ac02-68f1b55f6741': ['142597c0-d751-42dc-9d1b-97be2e81db2d',\n",
       "  '8817aec1-972c-4207-8988-448b8a219e39',\n",
       "  '2560a9d7-7da0-4211-82c0-ea5ba5cef01c',\n",
       "  'f7f48f0d-d985-47fe-9f5e-3102cd31cd3e',\n",
       "  'd65415df-520a-4de0-8fa9-f12f8b1f993b',\n",
       "  '27016ac8-116b-49c4-bc86-463cef94fe99',\n",
       "  '337fafe7-6991-402e-8e6a-ae2f476f10d6'],\n",
       " 'b664e120-cc12-4430-81b5-3560a8ffdd83': ['501a08c2-c7af-4075-bf69-156e117f838c',\n",
       "  '269b436f-86de-44d5-a4c8-2374bc2bc530',\n",
       "  'c41596d3-1e5b-4cd3-a134-9ca5260bb2fe',\n",
       "  '1bd7bcad-f7ae-44ca-9e7d-990bc443eb5e',\n",
       "  'ff3c2cfe-dee6-45af-b66c-5208aee4e6b2',\n",
       "  '802398bc-1b11-47d7-88dc-202450e660a0',\n",
       "  '6a6184b3-034b-4bed-a73a-262bf0fc2e76'],\n",
       " 'd39c437b-c9e8-4092-bb2b-c83974cecf68': ['d05a443b-3659-4a8c-a387-d3c8ceb43833',\n",
       "  'cc391310-2567-4e4a-882a-19a735cbcf11',\n",
       "  'fd4f304a-66ab-4233-a36f-088126eec93d',\n",
       "  '6008945c-34de-489a-b396-a2c8a08d6456',\n",
       "  'baf958e2-5e42-4c0a-b7f6-a0157b663a2e',\n",
       "  '11754840-30d9-4834-8717-3d6d9ded5c44',\n",
       "  'ec121a63-d605-499b-abe0-c0f2126d1144'],\n",
       " 'd68eb1bf-4bc4-4f41-98fb-e3617e6d6976': ['0da23333-ab59-4620-addb-a215a90721a5',\n",
       "  'e1948617-04ed-4ebc-9673-93eb84e90c8a',\n",
       "  '8d460e52-8e47-4f02-8bb1-8a1a081358c0',\n",
       "  '6124cd21-eb8a-41cf-a3ae-ec6d7b5f50d1',\n",
       "  'bec9012d-4a15-46f3-8327-985155a83a40',\n",
       "  '8d5fa78d-b8f4-4804-9e45-247979bfd19f',\n",
       "  'b804e8d7-9ed6-42bd-965f-1601235a3363'],\n",
       " 'dd211d6c-5501-49f9-af49-368e56e2bd12': ['8f7e28cf-fdcf-4c50-af16-e574eafe7bd8',\n",
       "  'a542528a-5efb-47ae-a884-1c4133e9935e',\n",
       "  'dd39752b-cdac-4de4-a1a1-536c7a8ced14',\n",
       "  '400048fc-414d-4f7b-95b3-1d74867ac4ee',\n",
       "  '6ef579d5-e5b8-46dc-b530-dd131c79ea5f',\n",
       "  '22b5bf7b-7726-444b-8f7c-f9358032c36c',\n",
       "  '834b4eab-df06-496a-926b-3082017ceeba'],\n",
       " 'fd459a9e-ebe1-4610-bc15-24c540155558': ['2050413d-a0b1-480e-8791-6fe71c33534e',\n",
       "  '7c4e01c1-5838-4973-a50b-f8c8a47955d7',\n",
       "  '9eec3722-51eb-485c-8cd6-a08f7b5d9dbf',\n",
       "  '2243f609-408b-420c-b937-ebda84aa8197',\n",
       "  'd8fee11e-c90d-4d0e-9f9d-2ae27e6c0348',\n",
       "  '91519c35-e6c2-4663-812d-dace7ddb7c14',\n",
       "  '68c6d0b5-eb71-4f00-85af-d444575234f3']}"
      ]
     },
     "execution_count": 31,
     "metadata": {},
     "output_type": "execute_result"
    }
   ],
   "source": [
    "series_games = {}\n",
    "\n",
    "if \"series\" in data:\n",
    "    for series in data[\"series\"]:\n",
    "        series_id = series.get(\"id\")\n",
    "        games = []\n",
    "        if \"games\" in series:\n",
    "            for game in series[\"games\"]:\n",
    "                if \"id\" in game:\n",
    "                    games.append(game[\"id\"])\n",
    "        if series_id:\n",
    "            series_games[series_id] = games\n",
    "\n",
    "series_games  # show the mapping"
   ]
  },
  {
   "cell_type": "code",
   "execution_count": 32,
   "id": "224a6b2c",
   "metadata": {},
   "outputs": [
    {
     "name": "stdout",
     "output_type": "stream",
     "text": [
      "✅ Saved 15 game series and a total of 105 IDs to ../../data/nba/api_data/game_ids/2023_season_ids.json\n"
     ]
    }
   ],
   "source": [
    "game_ids_file_path = f'../../data/nba/api_data/game_ids/{year}_season_ids.json'\n",
    "with open(game_ids_file_path, \"w\") as f:\n",
    "    json.dump(series_games, f, indent=4)\n",
    "\n",
    "total_games = sum(len(games) for games in series_games.values())\n",
    "print(f\"✅ Saved {len(series_games)} game series and a total of {total_games} IDs to {game_ids_file_path}\")\n"
   ]
  }
 ],
 "metadata": {
  "kernelspec": {
   "display_name": "Python 3",
   "language": "python",
   "name": "python3"
  },
  "language_info": {
   "codemirror_mode": {
    "name": "ipython",
    "version": 3
   },
   "file_extension": ".py",
   "mimetype": "text/x-python",
   "name": "python",
   "nbconvert_exporter": "python",
   "pygments_lexer": "ipython3",
   "version": "3.10.11"
  }
 },
 "nbformat": 4,
 "nbformat_minor": 5
}

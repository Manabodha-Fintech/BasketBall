{
 "cells": [
  {
   "cell_type": "code",
   "execution_count": 1,
   "id": "88016270",
   "metadata": {},
   "outputs": [],
   "source": [
    "import os\n",
    "import json\n",
    "import requests\n",
    "from dotenv import load_dotenv"
   ]
  },
  {
   "cell_type": "code",
   "execution_count": 2,
   "id": "796fbe45",
   "metadata": {},
   "outputs": [],
   "source": [
    "# Load API key from .env file\n",
    "load_dotenv()\n",
    "API_KEY = os.getenv(\"SPORTSRADAR_API_KEY\")\n",
    "\n",
    "if not API_KEY:\n",
    "    raise ValueError(\"❌ API Key not found in .env file\")\n"
   ]
  },
  {
   "cell_type": "code",
   "execution_count": 3,
   "id": "babf9d50",
   "metadata": {},
   "outputs": [],
   "source": [
    "# Read game IDs from series_game_ids.json\n",
    "year = '2023'\n",
    "# PRE IST PST REG PIT\n",
    "season_type = 'PST'\n",
    "file_path = f'../../data/nba/api_data/game_ids/{year}_{season_type}_season_ids.json'\n",
    "with open(file_path, \"r\") as f:\n",
    "    series_games = json.load(f)"
   ]
  },
  {
   "cell_type": "code",
   "execution_count": 4,
   "id": "5422be51",
   "metadata": {},
   "outputs": [],
   "source": [
    "def fetch_game_details(game_id, api_key):\n",
    "    url = f\"https://api.sportradar.com/nba/production/v8/en/games/{game_id}/summary.json\"\n",
    "    headers = {\n",
    "        \"accept\": \"application/json\",\n",
    "        \"x-api-key\": api_key\n",
    "    }\n",
    "    response = requests.get(url, headers=headers)\n",
    "    response.raise_for_status()\n",
    "    return response.json()"
   ]
  },
  {
   "cell_type": "code",
   "execution_count": 5,
   "id": "4a4750da",
   "metadata": {},
   "outputs": [],
   "source": [
    "os.makedirs(f'../../data/nba/api_data/match_stats/{year}',exist_ok=True)"
   ]
  },
  {
   "cell_type": "code",
   "execution_count": null,
   "id": "17f3b184",
   "metadata": {},
   "outputs": [],
   "source": [
    "all_game_ids = series_games\n",
    "total_ids = len(all_game_ids)\n",
    "print(f\"📊 Total games to fetch: {total_ids}\")\n",
    "success, fail = 0, 0\n",
    "\n",
    "for idx, game_id in enumerate(all_game_ids, start=1):\n",
    "        try:\n",
    "            data = fetch_game_details(game_id, API_KEY)\n",
    "\n",
    "            # Save file as games/<game_id>.json\n",
    "            file_path = os.path.join(f\"../../data/nba/api_data/match_stats/{year}/{season_type}_{game_id}.json\")\n",
    "            with open(file_path, \"w\") as f:\n",
    "                json.dump(data, f, indent=4)\n",
    "\n",
    "            success += 1\n",
    "            print(f\"✅ {idx}/{total_ids} Saved {game_id}.json (Success: {success}, Fail: {fail})\")\n",
    "\n",
    "        except Exception as e:\n",
    "            fail += 1\n",
    "            print(f\"❌ {idx}/{total_ids} Failed {game_id}: {e} (Success: {success}, Fail: {fail})\")\n",
    "\n",
    "print(f\"\\n🎯 Finished! {success} succeeded, {fail} failed out of {total_ids}\")\n"
   ]
  },
  {
   "cell_type": "code",
   "execution_count": null,
   "id": "cbdec780",
   "metadata": {},
   "outputs": [],
   "source": []
  },
  {
   "cell_type": "code",
   "execution_count": null,
   "id": "21f15a4f",
   "metadata": {},
   "outputs": [],
   "source": []
  },
  {
   "cell_type": "code",
   "execution_count": null,
   "id": "f3718795",
   "metadata": {},
   "outputs": [],
   "source": []
  },
  {
   "cell_type": "code",
   "execution_count": null,
   "id": "a4db062b",
   "metadata": {},
   "outputs": [],
   "source": []
  },
  {
   "cell_type": "code",
   "execution_count": null,
   "id": "f9120754",
   "metadata": {},
   "outputs": [],
   "source": []
  },
  {
   "cell_type": "code",
   "execution_count": null,
   "id": "3de93c12",
   "metadata": {},
   "outputs": [],
   "source": []
  }
 ],
 "metadata": {
  "kernelspec": {
   "display_name": "Python 3",
   "language": "python",
   "name": "python3"
  },
  "language_info": {
   "codemirror_mode": {
    "name": "ipython",
    "version": 3
   },
   "file_extension": ".py",
   "mimetype": "text/x-python",
   "name": "python",
   "nbconvert_exporter": "python",
   "pygments_lexer": "ipython3",
   "version": "3.10.11"
  }
 },
 "nbformat": 4,
 "nbformat_minor": 5
}

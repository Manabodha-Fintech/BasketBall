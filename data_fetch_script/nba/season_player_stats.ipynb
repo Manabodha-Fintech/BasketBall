{
 "cells": [
  {
   "cell_type": "code",
   "execution_count": 14,
   "id": "52b7e143",
   "metadata": {},
   "outputs": [],
   "source": [
    "import os\n",
    "import json\n",
    "import pandas as pd\n",
    "import requests\n",
    "from dotenv import load_dotenv"
   ]
  },
  {
   "cell_type": "code",
   "execution_count": 15,
   "id": "dd26f8d3",
   "metadata": {},
   "outputs": [
    {
     "name": "stdout",
     "output_type": "stream",
     "text": [
      "📂 Found 1348 game files\n"
     ]
    }
   ],
   "source": [
    "year = 2023  # adjust as needed\n",
    "folder_path = f\"../../data/nba/api_data/match_stats/{year}\"\n",
    "\n",
    "# List all JSON files in the folder\n",
    "json_files = [f for f in os.listdir(folder_path) if f.endswith(\".json\")]\n",
    "print(f\"📂 Found {len(json_files)} game files\")\n"
   ]
  },
  {
   "cell_type": "code",
   "execution_count": 16,
   "id": "d8a8b2e6",
   "metadata": {},
   "outputs": [],
   "source": [
    "rows = []\n",
    "\n",
    "for filename in json_files:\n",
    "    file_path = os.path.join(folder_path, filename)\n",
    "\n",
    "    try:\n",
    "        with open(file_path, \"r\") as f:\n",
    "            game_data = json.load(f)\n",
    "        if game_data.get(\"status\")!=\"closed\":\n",
    "            continue\n",
    "        # Loop for home & away\n",
    "        for side in [\"home\", \"away\"]:\n",
    "            team = game_data.get(side, {})\n",
    "            if not team:\n",
    "                continue\n",
    "            # print(\"-----------\")\n",
    "            common_info = {\n",
    "                # game details\n",
    "                \"game_id\": game_data.get(\"id\"),\n",
    "                \"game_sr_id\": game_data.get(\"sr_id\"),\n",
    "                \"scheduled\": game_data.get(\"scheduled\"),\n",
    "                \"duration\": game_data.get(\"duration\"),\n",
    "                \"game_date\":game_data.get(\"scheduled\").split('T')[0],\n",
    "                \"status\": game_data.get(\"status\"),\n",
    "                \"attendance\":game_data.get(\"attendance\"),\n",
    "                \"track_on_court\":game_data.get(\"track_on_court\", \"not preasent\"),\n",
    "                # team details\n",
    "                \"team_id\": team.get(\"id\"),\n",
    "                \"team_sr_id\": team.get(\"sr_id\"),\n",
    "                \"team_name\": team.get(\"name\"),\n",
    "                \"team_alias\": team.get(\"alias\"),\n",
    "                \"team_market\": team.get(\"market\"),\n",
    "                \"points\": team.get(\"points\"),\n",
    "                \"bonus\": team.get(\"bonus\"),\n",
    "                \"timeouts_remaining\": team.get(\"remaining_timeouts\"),\n",
    "                # team records\n",
    "                # \"record_wins\":team.get(\"record\").get(\"wins\"),\n",
    "                # \"record_losses\":team.get(\"record\").get(\"losses\"),\n",
    "                \n",
    "            }\n",
    "            \n",
    "            record = team.get(\"record\", {})\n",
    "            common_info.update({\n",
    "                     \"record_wins\":record.get(\"wins\"),\n",
    "                     \"record_losses\":record.get(\"losses\")\n",
    "                })\n",
    "            # venue details\n",
    "            venue = game_data.get(\"venue\", {})\n",
    "            common_info.update({\n",
    "                \"venue_id\": venue.get(\"id\"),\n",
    "                \"venue_name\": venue.get(\"name\"),\n",
    "                \"venue_capacity\": venue.get(\"capacity\"),\n",
    "                \"venue_address\": venue.get(\"address\"),\n",
    "                \"venue_city\": venue.get(\"city\"),\n",
    "                \"venue_state\": venue.get(\"state\"),\n",
    "                \"venue_zip\": venue.get(\"zip\"),\n",
    "                \"venue_country\": venue.get(\"country\"),\n",
    "                \"venue_sr_id\": venue.get(\"sr_id\"),\n",
    "            })\n",
    "\n",
    "            # location details (if present inside venue)\n",
    "            location = venue.get(\"location\", {})\n",
    "            common_info.update({\n",
    "                \"venue_lat\": location.get(\"lat\"),\n",
    "                \"venue_lon\": location.get(\"lng\"),\n",
    "            })\n",
    "            \n",
    "            # player statistics\n",
    "            player_stats_data = team.get(\"players\", [])\n",
    "            if player_stats_data:  # list of players\n",
    "                for player in player_stats_data:\n",
    "                    row =common_info.copy()\n",
    "                    # basic info (excluding statistics key)\n",
    "                    for k, v in player.items():\n",
    "                        if k != \"statistics\":\n",
    "                            row[f\"player_{k}\"] = v\n",
    "\n",
    "                    # player statistics\n",
    "                    player_statistics = player.get(\"statistics\", {})\n",
    "                    for stat_name, stat_value in player_statistics.items():\n",
    "                        row[f\"{stat_name}\"] = stat_value\n",
    "\n",
    "                    # player periodic statistics\n",
    "                    periods = player_statistics.get(\"periods\", [])\n",
    "                    for p in periods:\n",
    "                        period_no = p.get(\"number\")\n",
    "                        suffix = f\"{period_no}th_period\"\n",
    "                        for stat_name, value in p.items():\n",
    "                            if stat_name != \"number\":\n",
    "                                row[f\"{suffix}_{stat_name}\"] = value\n",
    "                    rows.append(row)\n",
    "                \n",
    "            \n",
    "\n",
    "    except Exception as e:\n",
    "        print(f\"❌ Failed {filename}: {e}\")\n",
    "        break\n"
   ]
  },
  {
   "cell_type": "code",
   "execution_count": 17,
   "id": "d590894e",
   "metadata": {},
   "outputs": [
    {
     "name": "stderr",
     "output_type": "stream",
     "text": [
      "No traceback available to show.\n"
     ]
    }
   ],
   "source": [
    "%tb"
   ]
  },
  {
   "cell_type": "code",
   "execution_count": 18,
   "id": "6d77d31e",
   "metadata": {},
   "outputs": [
    {
     "name": "stdout",
     "output_type": "stream",
     "text": [
      "✅ Processed 46193 rows from 1348 files\n",
      "📄 Saved CSV → ../../data/nba/api_data/player_stats/nba_player_stats_2023.csv\n"
     ]
    }
   ],
   "source": [
    "df = pd.DataFrame(rows)\n",
    "df.drop(columns=['periods'],inplace=True)\n",
    "# Composite key = (game_id, team_id)\n",
    "print(f\"✅ Processed {len(df)} rows from {len(json_files)} files\")\n",
    "\n",
    "output_path = f\"../../data/nba/api_data/player_stats/nba_player_stats_{year}.csv\"\n",
    "df.to_csv(output_path, index=False)\n",
    "print(f\"📄 Saved CSV → {output_path}\")\n"
   ]
  },
  {
   "cell_type": "code",
   "execution_count": 19,
   "id": "b6bc8f50",
   "metadata": {},
   "outputs": [
    {
     "name": "stderr",
     "output_type": "stream",
     "text": [
      "C:\\Users\\GauravRadadiya\\AppData\\Local\\Temp\\ipykernel_11720\\2862003217.py:2: DtypeWarning: Columns (24) have mixed types. Specify dtype option on import or set low_memory=False.\n",
      "  df = pd.read_csv(output_path)\n"
     ]
    },
    {
     "data": {
      "text/plain": [
       "(46193, 347)"
      ]
     },
     "execution_count": 19,
     "metadata": {},
     "output_type": "execute_result"
    }
   ],
   "source": [
    "# df = pd.read_csv('../../data/ncaamb/api_data/')\n",
    "df = pd.read_csv(output_path)\n",
    "df.shape"
   ]
  },
  {
   "cell_type": "code",
   "execution_count": 20,
   "id": "9c88345d",
   "metadata": {},
   "outputs": [
    {
     "name": "stdout",
     "output_type": "stream",
     "text": [
      "game_id\n",
      "00aca98b-9680-4900-8dfd-277e7767b696    34\n",
      "00cd35d2-a20a-445c-9c4b-4eb73e78d2ff    36\n",
      "00d9697d-e3f1-40dc-b914-c0bc9c5de45c    36\n",
      "01e3aa9e-ed9b-4862-adae-144a861fe035    36\n",
      "01e3abdc-1b56-4d58-8cf0-6498a97698ac    35\n",
      "                                        ..\n",
      "fe57a1fd-a1bc-42b8-bdcd-84c2d3263ab5    35\n",
      "fe96e30d-fbdc-4e9c-8fca-0156e5aed851    35\n",
      "fedaa6b6-196b-4ad2-af51-2b52350bca68    35\n",
      "ff3c2cfe-dee6-45af-b66c-5208aee4e6b2    30\n",
      "ff739695-a74f-40f7-a0df-1a6248fbf1ab    34\n",
      "Name: player_id, Length: 1323, dtype: int64\n"
     ]
    }
   ],
   "source": [
    "# Number of player of a team\n",
    "unique_players_per_game = df.groupby('game_id')['player_id'].nunique()\n",
    "unique_players_dict = unique_players_per_game.to_dict()\n",
    "print(unique_players_per_game)\n",
    "# print(unique_players_dict)\n"
   ]
  },
  {
   "cell_type": "code",
   "execution_count": 21,
   "id": "f9bcb949",
   "metadata": {},
   "outputs": [
    {
     "name": "stdout",
     "output_type": "stream",
     "text": [
      "All game_id + player_id pairs are unique.\n"
     ]
    }
   ],
   "source": [
    "# Check for duplicate game_id + player_id pairs\n",
    "duplicate_pairs = df.duplicated(subset=['game_id', 'player_id'], keep=False)\n",
    "if duplicate_pairs.any():\n",
    "    print(\"There are duplicate game_id + player_id pairs:\")\n",
    "    print(df[duplicate_pairs])\n",
    "else:\n",
    "    print(\"All game_id + player_id pairs are unique.\")\n"
   ]
  },
  {
   "cell_type": "code",
   "execution_count": 22,
   "id": "7300c245",
   "metadata": {},
   "outputs": [
    {
     "name": "stdout",
     "output_type": "stream",
     "text": [
      "game_id\n",
      "00aca98b-9680-4900-8dfd-277e7767b696    2\n",
      "00cd35d2-a20a-445c-9c4b-4eb73e78d2ff    2\n",
      "00d9697d-e3f1-40dc-b914-c0bc9c5de45c    2\n",
      "01e3aa9e-ed9b-4862-adae-144a861fe035    2\n",
      "01e3abdc-1b56-4d58-8cf0-6498a97698ac    2\n",
      "                                       ..\n",
      "fe57a1fd-a1bc-42b8-bdcd-84c2d3263ab5    2\n",
      "fe96e30d-fbdc-4e9c-8fca-0156e5aed851    2\n",
      "fedaa6b6-196b-4ad2-af51-2b52350bca68    2\n",
      "ff3c2cfe-dee6-45af-b66c-5208aee4e6b2    2\n",
      "ff739695-a74f-40f7-a0df-1a6248fbf1ab    2\n",
      "Name: team_id, Length: 1323, dtype: int64\n",
      "All games have exactly 2 teams.\n"
     ]
    }
   ],
   "source": [
    "# If each game id have unique 2 team id\n",
    "games_per_team = df.groupby('game_id')['team_id'].nunique()\n",
    "print(games_per_team)\n",
    "invalid_games = games_per_team[games_per_team != 2]\n",
    "if not invalid_games.empty:\n",
    "    print(\"Games with teams other than 2:\")\n",
    "    print(invalid_games)\n",
    "else:\n",
    "    print(\"All games have exactly 2 teams.\")\n"
   ]
  },
  {
   "cell_type": "code",
   "execution_count": 23,
   "id": "7589d3a3",
   "metadata": {},
   "outputs": [
    {
     "name": "stdout",
     "output_type": "stream",
     "text": [
      "                                 team_id  total_games  total_players\n",
      "0   2674a061-2cb1-4a0b-b0b6-e237ff267f45            1              8\n",
      "1   583ec5fd-fb46-11e1-82cb-f4ce4684ea4c           84             20\n",
      "2   583ec70e-fb46-11e1-82cb-f4ce4684ea4c           95             28\n",
      "3   583ec773-fb46-11e1-82cb-f4ce4684ea4c           94             21\n",
      "4   583ec7cd-fb46-11e1-82cb-f4ce4684ea4c          100             23\n",
      "5   583ec825-fb46-11e1-82cb-f4ce4684ea4c           83             18\n",
      "6   583ec87d-fb46-11e1-82cb-f4ce4684ea4c           89             30\n",
      "7   583ec8d4-fb46-11e1-82cb-f4ce4684ea4c           82             27\n",
      "8   583ec928-fb46-11e1-82cb-f4ce4684ea4c           82             32\n",
      "9   583ec97e-fb46-11e1-82cb-f4ce4684ea4c           82             27\n",
      "10  583ec9d6-fb46-11e1-82cb-f4ce4684ea4c           82             23\n",
      "11  583eca2f-fb46-11e1-82cb-f4ce4684ea4c           98             20\n",
      "12  583eca88-fb46-11e1-82cb-f4ce4684ea4c           82             35\n",
      "13  583ecae2-fb46-11e1-82cb-f4ce4684ea4c           89             21\n",
      "14  583ecb3a-fb46-11e1-82cb-f4ce4684ea4c           82             19\n",
      "15  583ecb8f-fb46-11e1-82cb-f4ce4684ea4c           83             20\n",
      "16  583ecc9a-fb46-11e1-82cb-f4ce4684ea4c           88             21\n",
      "17  583eccfa-fb46-11e1-82cb-f4ce4684ea4c          101             20\n",
      "18  583ecd4f-fb46-11e1-82cb-f4ce4684ea4c           82             23\n",
      "19  583ecda6-fb46-11e1-82cb-f4ce4684ea4c           82             32\n",
      "20  583ecdfb-fb46-11e1-82cb-f4ce4684ea4c           88             23\n",
      "21  583ece50-fb46-11e1-82cb-f4ce4684ea4c           82             24\n",
      "22  583ecea6-fb46-11e1-82cb-f4ce4684ea4c           89             21\n",
      "23  583ecefd-fb46-11e1-82cb-f4ce4684ea4c           88             22\n",
      "24  583ecf50-fb46-11e1-82cb-f4ce4684ea4c          104             22\n",
      "25  583ecfa8-fb46-11e1-82cb-f4ce4684ea4c           86             23\n",
      "26  583ecfff-fb46-11e1-82cb-f4ce4684ea4c           92             22\n",
      "27  583ed056-fb46-11e1-82cb-f4ce4684ea4c           82             22\n",
      "28  583ed0ac-fb46-11e1-82cb-f4ce4684ea4c           84             20\n",
      "29  583ed102-fb46-11e1-82cb-f4ce4684ea4c           94             18\n",
      "30  583ed157-fb46-11e1-82cb-f4ce4684ea4c           89             18\n",
      "31  592d3144-895b-43e9-ab15-e84666a845d5            1             14\n",
      "32  739e187c-5d96-477d-a2fb-5f40439138fc            2              8\n",
      "33  787ff06f-f0cc-484e-8114-04e0cdc444fa            1             12\n",
      "34  849c6b54-2cdc-4242-b194-7f7edd2ee341            1              7\n",
      "35  d64e9292-0b2b-4c21-a623-fcadad5496f5            2              8\n"
     ]
    }
   ],
   "source": [
    "# Total number of team, games, players in each team\n",
    "games_per_team = df.groupby('team_id')['game_id'].nunique()\n",
    "players_per_team = df.groupby('team_id')['player_id'].nunique()\n",
    "team_summary = pd.DataFrame({\n",
    "    'total_games': games_per_team,\n",
    "    'total_players': players_per_team\n",
    "}).reset_index()\n",
    "\n",
    "print(team_summary)\n"
   ]
  }
 ],
 "metadata": {
  "kernelspec": {
   "display_name": "Python 3",
   "language": "python",
   "name": "python3"
  },
  "language_info": {
   "codemirror_mode": {
    "name": "ipython",
    "version": 3
   },
   "file_extension": ".py",
   "mimetype": "text/x-python",
   "name": "python",
   "nbconvert_exporter": "python",
   "pygments_lexer": "ipython3",
   "version": "3.12.10"
  }
 },
 "nbformat": 4,
 "nbformat_minor": 5
}

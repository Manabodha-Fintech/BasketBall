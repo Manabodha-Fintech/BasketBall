{
 "cells": [
  {
   "cell_type": "code",
   "execution_count": 64,
   "id": "7da8376a",
   "metadata": {},
   "outputs": [],
   "source": [
    "import os\n",
    "import json\n",
    "import pandas as pd\n",
    "import requests\n",
    "from dotenv import load_dotenv"
   ]
  },
  {
   "cell_type": "code",
   "execution_count": 65,
   "id": "07024b38",
   "metadata": {},
   "outputs": [
    {
     "name": "stdout",
     "output_type": "stream",
     "text": [
      "📂 Found 105 game files\n"
     ]
    }
   ],
   "source": [
    "year = 2023  # adjust as needed\n",
    "folder_path = f\"../../data/nba/api_data/match_stats/{year}\"\n",
    "\n",
    "# List all JSON files in the folder\n",
    "json_files = [f for f in os.listdir(folder_path) if f.endswith(\".json\")]\n",
    "print(f\"📂 Found {len(json_files)} game files\")\n"
   ]
  },
  {
   "cell_type": "code",
   "execution_count": 66,
   "id": "7782fa38",
   "metadata": {},
   "outputs": [],
   "source": [
    "rows = []\n",
    "\n",
    "for filename in json_files:\n",
    "    file_path = os.path.join(folder_path, filename)\n",
    "\n",
    "    try:\n",
    "        with open(file_path, \"r\") as f:\n",
    "            game_data = json.load(f)\n",
    "        if game_data.get(\"status\")!=\"closed\":\n",
    "            continue\n",
    "        # Loop for home & away\n",
    "        for side in [\"home\", \"away\"]:\n",
    "            team = game_data.get(side, {})\n",
    "            if not team:\n",
    "                continue\n",
    "\n",
    "            row = {\n",
    "                # game details\n",
    "                \"game_id\": game_data.get(\"id\"),\n",
    "                \"game_sr_id\": game_data.get(\"sr_id\"),\n",
    "                \"scheduled\": game_data.get(\"scheduled\"),\n",
    "                \"duration\": game_data.get(\"duration\"),\n",
    "                \"game_date\":game_data.get(\"scheduled\").split('T')[0],\n",
    "                \"status\": game_data.get(\"status\"),\n",
    "                \"attendance\":game_data.get(\"attendance\"),\n",
    "                \"track_on_court\":game_data.get(\"track_on_court\"),\n",
    "                # team details\n",
    "                \"team_id\": team.get(\"id\"),\n",
    "                \"team_sr_id\": team.get(\"sr_id\"),\n",
    "                \"team_name\": team.get(\"name\"),\n",
    "                \"team_alias\": team.get(\"alias\"),\n",
    "                \"team_market\": team.get(\"market\"),\n",
    "                \"points\": team.get(\"points\"),\n",
    "                \"bonus\": team.get(\"bonus\"),\n",
    "                \"timeouts_remaining\": team.get(\"remaining_timeouts\"),\n",
    "                # team records\n",
    "                \"record_wins\":team.get(\"record\").get(\"wins\"),\n",
    "                \"record_losses\":team.get(\"record\").get(\"losses\"),\n",
    "                \n",
    "            }\n",
    "            # venue details\n",
    "            venue = game_data.get(\"venue\", {})\n",
    "            row.update({\n",
    "                \"venue_id\": venue.get(\"id\"),\n",
    "                \"venue_name\": venue.get(\"name\"),\n",
    "                \"venue_capacity\": venue.get(\"capacity\"),\n",
    "                \"venue_address\": venue.get(\"address\"),\n",
    "                \"venue_city\": venue.get(\"city\"),\n",
    "                \"venue_state\": venue.get(\"state\"),\n",
    "                \"venue_zip\": venue.get(\"zip\"),\n",
    "                \"venue_country\": venue.get(\"country\"),\n",
    "                \"venue_sr_id\": venue.get(\"sr_id\"),\n",
    "            })\n",
    "\n",
    "            # location details (if present inside venue)\n",
    "            location = venue.get(\"location\", {})\n",
    "            row.update({\n",
    "                \"venue_lat\": location.get(\"lat\"),\n",
    "                \"venue_lon\": location.get(\"lng\"),\n",
    "            })\n",
    "            \n",
    "            # team scoring\n",
    "            scoring = team.get(\"scoring\", [])\n",
    "            for i, s in enumerate(scoring):\n",
    "                row[f\"scoring_{i}_points\"] = s.get(\"points\")\n",
    "                row[f\"scoring_{i}_type\"] = s.get(\"type\")\n",
    "                row[f\"scoring_{i}_number\"] = s.get(\"number\")\n",
    "                row[f\"scoring_{i}_sequence\"] = s.get(\"sequence\")\n",
    "\n",
    "            # team statistics\n",
    "            stats_data = team.get(\"statistics\", [])\n",
    "            stats_dict = {}\n",
    "            if stats_data:\n",
    "                # usually list with one dict inside\n",
    "                for k, v in stats_data.items():\n",
    "                        row[k] = v\n",
    "\n",
    "                # team most_unanswered\n",
    "                most_unanswered = stats_data.get(\"most_unanswered\", {})\n",
    "                if most_unanswered:\n",
    "                    for k, v in most_unanswered.items():\n",
    "                        row[f\"most_unanswered_{k}\"] = v\n",
    "\n",
    "                # team periodic statistics\n",
    "                periods = stats_data.get(\"periods\", [])\n",
    "                for p in periods:\n",
    "                        period_no = p.get(\"number\")\n",
    "                        suffix = f\"{period_no}th_period\"\n",
    "                        for stat_name, value in p.items():\n",
    "                            if stat_name != \"number\":\n",
    "                                row[f\"{suffix}_{stat_name}\"] = value\n",
    "            \n",
    "            rows.append(row)\n",
    "\n",
    "    except Exception as e:\n",
    "        print(f\"❌ Failed {filename}: {e}\")\n"
   ]
  },
  {
   "cell_type": "code",
   "execution_count": null,
   "id": "401eeb83",
   "metadata": {},
   "outputs": [],
   "source": []
  },
  {
   "cell_type": "code",
   "execution_count": 67,
   "id": "9e6cab51",
   "metadata": {},
   "outputs": [
    {
     "name": "stdout",
     "output_type": "stream",
     "text": [
      "✅ Processed 164 rows from 105 files\n",
      "📄 Saved CSV → ../../data/nba/api_data/team_stats/nba_team_stats_2023.csv\n"
     ]
    }
   ],
   "source": [
    "df = pd.DataFrame(rows)\n",
    "df.drop(columns=['most_unanswered','periods'],inplace=True)\n",
    "# Composite key = (game_id, team_id)\n",
    "print(f\"✅ Processed {len(df)} rows from {len(json_files)} files\")\n",
    "\n",
    "output_path = f\"../../data/nba/api_data/team_stats/nba_team_stats_{year}.csv\"\n",
    "df.to_csv(output_path, index=False)\n",
    "print(f\"📄 Saved CSV → {output_path}\")\n"
   ]
  },
  {
   "cell_type": "code",
   "execution_count": 68,
   "id": "d3724ea4",
   "metadata": {},
   "outputs": [
    {
     "data": {
      "text/plain": [
       "(164, 417)"
      ]
     },
     "execution_count": 68,
     "metadata": {},
     "output_type": "execute_result"
    }
   ],
   "source": [
    "# df = pd.read_csv('../../data/nba/api_data/')\n",
    "df = pd.read_csv(output_path)\n",
    "df.shape"
   ]
  },
  {
   "cell_type": "code",
   "execution_count": null,
   "id": "d67ca4bd",
   "metadata": {},
   "outputs": [],
   "source": []
  },
  {
   "cell_type": "code",
   "execution_count": null,
   "id": "cef40528",
   "metadata": {},
   "outputs": [],
   "source": []
  },
  {
   "cell_type": "code",
   "execution_count": null,
   "id": "faf412f9",
   "metadata": {},
   "outputs": [],
   "source": []
  }
 ],
 "metadata": {
  "kernelspec": {
   "display_name": "Python 3",
   "language": "python",
   "name": "python3"
  },
  "language_info": {
   "codemirror_mode": {
    "name": "ipython",
    "version": 3
   },
   "file_extension": ".py",
   "mimetype": "text/x-python",
   "name": "python",
   "nbconvert_exporter": "python",
   "pygments_lexer": "ipython3",
   "version": "3.10.11"
  }
 },
 "nbformat": 4,
 "nbformat_minor": 5
}
